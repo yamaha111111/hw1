{
 "cells": [
  {
   "cell_type": "code",
   "execution_count": 10,
   "metadata": {},
   "outputs": [
    {
     "name": "stdout",
     "output_type": "stream",
     "text": [
      "第1題的答案 =  [ 0  1  2  3  4  5  6  7  8  9 10 11 12 13 14 15 16 17 18 19 20]\n",
      "第2題的答案 =  [ 0  2  4  6  8 10 12 14 16 18 20]\n",
      "第3題的答案 =  [ 0  3  6  9 12 15 18]\n"
     ]
    }
   ],
   "source": [
    "import numpy as np\n",
    "'第1題'\n",
    "b=np.arange(0,21,1)\n",
    "'第2題'\n",
    "c=np.arange(0,21,2)\n",
    "'第3題'\n",
    "d=np.arange(0,21,3)\n",
    "print (\"第1題的答案 = \",b)\n",
    "print (\"第2題的答案 = \",c)\n",
    "print (\"第3題的答案 = \",d)"
   ]
  },
  {
   "cell_type": "code",
   "execution_count": null,
   "metadata": {},
   "outputs": [],
   "source": []
  }
 ],
 "metadata": {
  "kernelspec": {
   "display_name": "Python 3",
   "language": "python",
   "name": "python3"
  },
  "language_info": {
   "codemirror_mode": {
    "name": "ipython",
    "version": 3
   },
   "file_extension": ".py",
   "mimetype": "text/x-python",
   "name": "python",
   "nbconvert_exporter": "python",
   "pygments_lexer": "ipython3",
   "version": "3.8.5"
  }
 },
 "nbformat": 4,
 "nbformat_minor": 4
}
